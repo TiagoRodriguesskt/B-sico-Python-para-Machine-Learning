{
 "cells": [
  {
   "cell_type": "code",
   "execution_count": null,
   "metadata": {},
   "outputs": [],
   "source": [
    "import random\n",
    "\n",
    "\n",
    "totalnum = 25\n",
    "faltantes = 0\n",
    "escolhidos= []\n",
    "matriz = [1,2,3,4,5,6,7,8,9,10,11,12,13,14,15,16,17,18,19,20,21,22,23,24,25]\n",
    "sorteio =[]\n",
    "novalista = []\n",
    "nova_matriz=[]\n",
    "\n",
    "\n",
    "choisen = 0\n",
    "while choisen != 5:\n",
    "    print('''   \n",
    "    >>>>>>>> $ PROGRAMA  Sortear LOTOFÁCIL $ <<<<<<<<<<<<<\n",
    "            \n",
    "            [5] SORTEIO DE 15 NUMEROS\n",
    "            [6] SORTEIO DE 16 NUMEROS\n",
    "    \n",
    "    >>>>>>>>>>>>>>>>> $MARCOS SOUZA 2019$ <<<<<<<<<<<<<<<< \\n\\n''')\n",
    "\n",
    "\n",
    "\n",
    "    choisen = int(input(\" Digite a opção desejada \\n\\n\"))\n",
    "    if choisen == 5:\n",
    "        faltantes = 15 - 5 \n",
    "        for faltantes in (range(choisen)):\n",
    "            escolhidos = int(input(\"Digite os 5 Numeros desejar ganhar $ \\n\"))\n",
    "            novalista.append(escolhidos)\n",
    "            print(\"Você escolheu {} para seu sorteio\".format(novalista))\n",
    "            unicos = list(set(matriz) - set(novalista))\n",
    "        #Efetua Sorteio na lista sem numeros repetidos\n",
    "        sorteio=random.sample(unicos,k=10)\n",
    "        resultado = sorteio + novalista\n",
    "        #Ordena os numeros para o resultado final\n",
    "        resultado_ordenado = sorted(resultado)\n",
    "        print(''' \n",
    "\n",
    "\n",
    "        *+*+*+*+*+*+*+*+*+*+*+  SORTEIO DA LOTOFÁCIL +*+*+*+*+*+*+*+*+*+*+*+*+*+ \n",
    "                                                                            \n",
    "        *+          ->>>>>>> Seus números da sorte são $:   <<<<<<-           +*   \n",
    "             {}                                                                           \n",
    "        +*+*+*+*+*+*+*+*+*+*+*+*+*+*+*+*+*+*+*+*+*+*+*+*+*+*+*+*+*+*+*+*+*+*+*+*\n",
    "        \n",
    "        '''.format(resultado_ordenado))\n",
    "        #print(escolhidos)\n",
    "\n",
    "\n",
    "        choisen = int(input(\" Digite a opção desejada \\n\\n\"))\n",
    "    elif choisen == 6:\n",
    "        faltantes = 16 - 5 \n",
    "        for faltantes in (range(choisen)):\n",
    "            escolhidos = int(input(\"Digite o nº desejar ganhar $ \\n\"))\n",
    "            novalista.append(escolhidos)\n",
    "            print(\"Você escolheu {} para seu sorteio\".format(novalista))\n",
    "            unicos = list(set(matriz) - set(novalista))\n",
    "        #Efetua Sorteio na lista sem numeros repetidos\n",
    "        sorteio=random.sample(unicos,k=11)\n",
    "        resultado = sorteio + novalista\n",
    "        #Ordena os numeros para o resultado final\n",
    "        resultado_ordenado = sorted(resultado)\n",
    "        print(''' \n",
    "\n",
    "\n",
    "        *+*+*+*+*+*+*+*+*+*+*+  SORTEIO DA LOTOFÁCIL +*+*+*+*+*+*+*+*+*+*+*+*+*+ \n",
    "                                                                            \n",
    "        *+          ->>>>>>> Seus números da sorte são $:   <<<<<<-           +*   \n",
    "             {}                                                                           \n",
    "        +*+*+*+*+*+*+*+*+*+*+*+*+*+*+*+*+*+*+*+*+*+*+*+*+*+*+*+*+*+*+*+*+*+*+*+*\n",
    "        \n",
    "        '''.format(resultado_ordenado))\n",
    "        #print(escolhidos)\n",
    "    else:\n",
    "          print(\"numero errado\")"
   ]
  },
  {
   "cell_type": "code",
   "execution_count": null,
   "metadata": {},
   "outputs": [],
   "source": [
    "\n"
   ]
  },
  {
   "cell_type": "code",
   "execution_count": 6,
   "metadata": {},
   "outputs": [
    {
     "name": "stdout",
     "output_type": "stream",
     "text": [
      "16\n"
     ]
    }
   ],
   "source": [
    "a = {1 : 4, 2 : 10, 1.0: 6}\n",
    "sum = 0\n",
    "for i in a:\n",
    "    sum = sum + a[i]\n",
    "print(sum)"
   ]
  },
  {
   "cell_type": "code",
   "execution_count": 3,
   "metadata": {},
   "outputs": [],
   "source": [
    "t2 = 5"
   ]
  },
  {
   "cell_type": "code",
   "execution_count": 5,
   "metadata": {},
   "outputs": [
    {
     "name": "stdout",
     "output_type": "stream",
     "text": [
      "(1, 2, 3, 4, 5) 5\n"
     ]
    }
   ],
   "source": [
    "print(t1, t2)"
   ]
  },
  {
   "cell_type": "code",
   "execution_count": null,
   "metadata": {},
   "outputs": [],
   "source": []
  }
 ],
 "metadata": {
  "kernelspec": {
   "display_name": "Python 3",
   "language": "python",
   "name": "python3"
  },
  "language_info": {
   "codemirror_mode": {
    "name": "ipython",
    "version": 3
   },
   "file_extension": ".py",
   "mimetype": "text/x-python",
   "name": "python",
   "nbconvert_exporter": "python",
   "pygments_lexer": "ipython3",
   "version": "3.7.6"
  }
 },
 "nbformat": 4,
 "nbformat_minor": 4
}
